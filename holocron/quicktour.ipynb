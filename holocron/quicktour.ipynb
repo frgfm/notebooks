{
  "nbformat": 4,
  "nbformat_minor": 0,
  "metadata": {
    "colab": {
      "name": "Holocron - Quickstart.ipynb",
      "provenance": []
    },
    "kernelspec": {
      "name": "python3",
      "display_name": "Python 3"
    },
    "language_info": {
      "name": "python"
    }
  },
  "cells": [
    {
      "cell_type": "markdown",
      "source": [
        "## Installation\n",
        "\n",
        "The project provides two main options for [installation](https://frgfm.github.io/Holocron/latest/installing.html): one for stable release and from source. "
      ],
      "metadata": {
        "id": "k1sSwgm_PsjE"
      }
    },
    {
      "cell_type": "markdown",
      "source": [
        "## Latest stable release\n",
        "\n",
        "The last stable release that was published by the author. It is expected to provide a clean and non-buggy experience for all users."
      ],
      "metadata": {
        "id": "O0wzocgJQHb3"
      }
    },
    {
      "cell_type": "code",
      "source": [
        "# Pypi\n",
        "!pip install pylocron\n",
        "# Conda\n",
        "# !conda install -c frgfm pylocron "
      ],
      "metadata": {
        "id": "PVykv6H5QRHY"
      },
      "execution_count": null,
      "outputs": []
    },
    {
      "cell_type": "markdown",
      "source": [
        "## From source\n",
        "\n",
        "Before being staged for a stable release, many improvements are brought to the library thanks to the community's feedback. Bug fixes and performance improvements are regularly pushed to the project Git repository. Using this installation method, you will access all the latest features that have not yet made their way to a stable release!"
      ],
      "metadata": {
        "id": "62yL5e6hQc0n"
      }
    },
    {
      "cell_type": "code",
      "source": [
        "# Install the most up-to-date version from GitHub\n",
        "!pip install -e git+https://github.com/frgfm/Holocron.git#egg=pylocron"
      ],
      "metadata": {
        "colab": {
          "base_uri": "https://localhost:8080/",
          "height": 817
        },
        "id": "At23J5XAQp3V",
        "outputId": "59b4ad84-8282-4cf5-a28d-40c7f1d3d123"
      },
      "execution_count": 2,
      "outputs": [
        {
          "output_type": "stream",
          "name": "stdout",
          "text": [
            "Obtaining pylocron from git+https://github.com/frgfm/Holocron.git#egg=pylocron\n",
            "  Cloning https://github.com/frgfm/Holocron.git to ./src/pylocron\n",
            "  Running command git clone -q https://github.com/frgfm/Holocron.git /content/src/pylocron\n",
            "Requirement already satisfied: torch>=1.9.1 in /usr/local/lib/python3.7/dist-packages (from pylocron) (1.10.0+cu111)\n",
            "Requirement already satisfied: torchvision>=0.10.1 in /usr/local/lib/python3.7/dist-packages (from pylocron) (0.11.1+cu111)\n",
            "Requirement already satisfied: tqdm>=4.1.0 in /usr/local/lib/python3.7/dist-packages (from pylocron) (4.62.3)\n",
            "Requirement already satisfied: numpy>=1.17.2 in /usr/local/lib/python3.7/dist-packages (from pylocron) (1.19.5)\n",
            "Requirement already satisfied: fastprogress>=1.0.0 in /usr/local/lib/python3.7/dist-packages (from pylocron) (1.0.0)\n",
            "Requirement already satisfied: matplotlib>=3.0.0 in /usr/local/lib/python3.7/dist-packages (from pylocron) (3.2.2)\n",
            "Collecting Pillow>=8.4.0\n",
            "  Downloading Pillow-9.0.1-cp37-cp37m-manylinux_2_17_x86_64.manylinux2014_x86_64.whl (4.3 MB)\n",
            "\u001b[K     |████████████████████████████████| 4.3 MB 4.3 MB/s \n",
            "\u001b[?25hCollecting huggingface-hub>=0.4.0\n",
            "  Downloading huggingface_hub-0.4.0-py3-none-any.whl (67 kB)\n",
            "\u001b[K     |████████████████████████████████| 67 kB 4.7 MB/s \n",
            "\u001b[?25hRequirement already satisfied: typing-extensions>=3.7.4.3 in /usr/local/lib/python3.7/dist-packages (from huggingface-hub>=0.4.0->pylocron) (3.10.0.2)\n",
            "Requirement already satisfied: requests in /usr/local/lib/python3.7/dist-packages (from huggingface-hub>=0.4.0->pylocron) (2.23.0)\n",
            "Requirement already satisfied: pyyaml in /usr/local/lib/python3.7/dist-packages (from huggingface-hub>=0.4.0->pylocron) (3.13)\n",
            "Requirement already satisfied: filelock in /usr/local/lib/python3.7/dist-packages (from huggingface-hub>=0.4.0->pylocron) (3.4.2)\n",
            "Requirement already satisfied: importlib-metadata in /usr/local/lib/python3.7/dist-packages (from huggingface-hub>=0.4.0->pylocron) (4.10.1)\n",
            "Requirement already satisfied: packaging>=20.9 in /usr/local/lib/python3.7/dist-packages (from huggingface-hub>=0.4.0->pylocron) (21.3)\n",
            "Requirement already satisfied: kiwisolver>=1.0.1 in /usr/local/lib/python3.7/dist-packages (from matplotlib>=3.0.0->pylocron) (1.3.2)\n",
            "Requirement already satisfied: python-dateutil>=2.1 in /usr/local/lib/python3.7/dist-packages (from matplotlib>=3.0.0->pylocron) (2.8.2)\n",
            "Requirement already satisfied: pyparsing!=2.0.4,!=2.1.2,!=2.1.6,>=2.0.1 in /usr/local/lib/python3.7/dist-packages (from matplotlib>=3.0.0->pylocron) (3.0.7)\n",
            "Requirement already satisfied: cycler>=0.10 in /usr/local/lib/python3.7/dist-packages (from matplotlib>=3.0.0->pylocron) (0.11.0)\n",
            "Requirement already satisfied: six>=1.5 in /usr/local/lib/python3.7/dist-packages (from python-dateutil>=2.1->matplotlib>=3.0.0->pylocron) (1.15.0)\n",
            "Requirement already satisfied: zipp>=0.5 in /usr/local/lib/python3.7/dist-packages (from importlib-metadata->huggingface-hub>=0.4.0->pylocron) (3.7.0)\n",
            "Requirement already satisfied: idna<3,>=2.5 in /usr/local/lib/python3.7/dist-packages (from requests->huggingface-hub>=0.4.0->pylocron) (2.10)\n",
            "Requirement already satisfied: chardet<4,>=3.0.2 in /usr/local/lib/python3.7/dist-packages (from requests->huggingface-hub>=0.4.0->pylocron) (3.0.4)\n",
            "Requirement already satisfied: urllib3!=1.25.0,!=1.25.1,<1.26,>=1.21.1 in /usr/local/lib/python3.7/dist-packages (from requests->huggingface-hub>=0.4.0->pylocron) (1.24.3)\n",
            "Requirement already satisfied: certifi>=2017.4.17 in /usr/local/lib/python3.7/dist-packages (from requests->huggingface-hub>=0.4.0->pylocron) (2021.10.8)\n",
            "Installing collected packages: Pillow, huggingface-hub, pylocron\n",
            "  Attempting uninstall: Pillow\n",
            "    Found existing installation: Pillow 7.1.2\n",
            "    Uninstalling Pillow-7.1.2:\n",
            "      Successfully uninstalled Pillow-7.1.2\n",
            "  Running setup.py develop for pylocron\n",
            "\u001b[31mERROR: pip's dependency resolver does not currently take into account all the packages that are installed. This behaviour is the source of the following dependency conflicts.\n",
            "albumentations 0.1.12 requires imgaug<0.2.7,>=0.2.5, but you have imgaug 0.2.9 which is incompatible.\u001b[0m\n",
            "Successfully installed Pillow-9.0.1 huggingface-hub-0.4.0 pylocron-0.2.0.dev0+b38c9df\n"
          ]
        },
        {
          "output_type": "display_data",
          "data": {
            "application/vnd.colab-display-data+json": {
              "pip_warning": {
                "packages": [
                  "PIL"
                ]
              }
            }
          },
          "metadata": {}
        }
      ]
    },
    {
      "cell_type": "markdown",
      "source": [
        "Now go to `Runtime/Restart runtime` for your changes to take effect!"
      ],
      "metadata": {
        "id": "DObrtXoWQ-L8"
      }
    },
    {
      "cell_type": "markdown",
      "source": [
        "## Basic usage\n",
        "\n",
        "Let's pick a relevant image to our model"
      ],
      "metadata": {
        "id": "4CGwfEfhRAhf"
      }
    },
    {
      "cell_type": "code",
      "source": [
        "# Fetch an image\n",
        "!wget https://m.media-amazon.com/images/I/517Nh08xqkL._AC_SX425_.jpg"
      ],
      "metadata": {
        "colab": {
          "base_uri": "https://localhost:8080/"
        },
        "id": "sp1ZW9iUSEwn",
        "outputId": "5e49396e-3e31-4379-bcf5-314ccaf60553"
      },
      "execution_count": 1,
      "outputs": [
        {
          "output_type": "stream",
          "name": "stdout",
          "text": [
            "--2022-02-05 14:46:13--  https://m.media-amazon.com/images/I/517Nh08xqkL._AC_SX425_.jpg\n",
            "Resolving m.media-amazon.com (m.media-amazon.com)... 54.230.87.225, 2600:9000:2200:1600:1d:d7f6:39cf:a761, 2600:9000:2200:d800:1d:d7f6:39cf:a761, ...\n",
            "Connecting to m.media-amazon.com (m.media-amazon.com)|54.230.87.225|:443... connected.\n",
            "HTTP request sent, awaiting response... 200 OK\n",
            "Length: 30818 (30K) [image/jpeg]\n",
            "Saving to: ‘517Nh08xqkL._AC_SX425_.jpg’\n",
            "\n",
            "\r          517Nh08xq   0%[                    ]       0  --.-KB/s               \r517Nh08xqkL._AC_SX4 100%[===================>]  30.10K  --.-KB/s    in 0.06s   \n",
            "\n",
            "2022-02-05 14:46:14 (466 KB/s) - ‘517Nh08xqkL._AC_SX425_.jpg’ saved [30818/30818]\n",
            "\n"
          ]
        }
      ]
    },
    {
      "cell_type": "markdown",
      "source": [
        "Now import everything we'll need later"
      ],
      "metadata": {
        "id": "mKbAdrFLUNkm"
      }
    },
    {
      "cell_type": "code",
      "source": [
        "%matplotlib inline\n",
        "\n",
        "import matplotlib.pyplot as plt\n",
        "from PIL import Image\n",
        "import torch\n",
        "from torchvision.transforms import Compose, ConvertImageDtype, Normalize, PILToTensor, Resize\n",
        "from torchvision.transforms.functional import InterpolationMode\n",
        "from holocron.models.classification import repvgg_a0\n",
        "\n",
        "IMG_PATH = \"517Nh08xqkL._AC_SX425_.jpg\""
      ],
      "metadata": {
        "id": "oMQizeUxSSDc"
      },
      "execution_count": 2,
      "outputs": []
    },
    {
      "cell_type": "code",
      "source": [
        "# Load the image\n",
        "img = Image.open(IMG_PATH).convert(\"RGB\")\n",
        "\n",
        "# Visualize it\n",
        "plt.imshow(img); plt.axis('off'); plt.show()"
      ],
      "metadata": {
        "colab": {
          "base_uri": "https://localhost:8080/",
          "height": 248
        },
        "id": "ggmXhd8gTDws",
        "outputId": "c59023dc-6bf9-4601-a048-e17d450a9353"
      },
      "execution_count": 3,
      "outputs": [
        {
          "output_type": "display_data",
          "data": {
            "image/png": "[encoded data removed]",
            "text/plain": [
              "<Figure size 432x288 with 1 Axes>"
            ]
          },
          "metadata": {
            "needs_background": "light"
          }
        }
      ]
    },
    {
      "cell_type": "markdown",
      "source": [
        "Instantiate the pretrained model and its pre-processor (this is important for your inference pipeline to work correctly)."
      ],
      "metadata": {
        "id": "VyqtAgFIUXce"
      }
    },
    {
      "cell_type": "code",
      "source": [
        "model = repvgg_a0(pretrained=True).eval()\n",
        "\n",
        "# Preprocessing\n",
        "config = model.default_cfg\n",
        "transform = Compose([\n",
        "    Resize(config['input_shape'][1:], interpolation=InterpolationMode.BILINEAR),\n",
        "    PILToTensor(),\n",
        "    ConvertImageDtype(torch.float32),\n",
        "    Normalize(config['mean'], config['std'])\n",
        "])"
      ],
      "metadata": {
        "id": "I-0UoXQQRjhy"
      },
      "execution_count": 4,
      "outputs": []
    },
    {
      "cell_type": "markdown",
      "source": [
        "And now we can go ahead with the inference!"
      ],
      "metadata": {
        "id": "fcfUq2A4UgXt"
      }
    },
    {
      "cell_type": "code",
      "source": [
        "# Preprocess the image\n",
        "input_tensor = transform(img).unsqueeze(0)\n",
        "\n",
        "# Inference\n",
        "with torch.inference_mode():\n",
        "    output = model(input_tensor)\n",
        "probs = output.squeeze(0).softmax(dim=0)"
      ],
      "metadata": {
        "id": "ekblS2erTWH-"
      },
      "execution_count": 5,
      "outputs": []
    },
    {
      "cell_type": "code",
      "source": [
        "# Print the result\n",
        "print(model.default_cfg['classes'][probs.argmax()], probs.max().item())"
      ],
      "metadata": {
        "colab": {
          "base_uri": "https://localhost:8080/"
        },
        "id": "_i-ZYrnQTciy",
        "outputId": "c4c0817d-4f1a-4328-af9a-7002c0072d14"
      },
      "execution_count": 6,
      "outputs": [
        {
          "output_type": "stream",
          "name": "stdout",
          "text": [
            "French horn 0.8729506731033325\n"
          ]
        }
      ]
    },
    {
      "cell_type": "markdown",
      "source": [
        "There are many other models available in Holocron. They are all designed for quality implementation, developer flexibility and being highly compatible with the PyTorch ecosystem. Here is how this model looks like:"
      ],
      "metadata": {
        "id": "ORVV0o_dUj_0"
      }
    },
    {
      "cell_type": "code",
      "source": [
        "print(model)"
      ],
      "metadata": {
        "colab": {
          "base_uri": "https://localhost:8080/"
        },
        "id": "c-kFd9I8T5cR",
        "outputId": "c6f08daa-ce68-4825-eb46-98c009b17cdb"
      },
      "execution_count": 7,
      "outputs": [
        {
          "output_type": "stream",
          "name": "stdout",
          "text": [
            "RepVGG(\n",
            "  (features): Sequential(\n",
            "    (0): Sequential(\n",
            "      (0): RepBlock(\n",
            "        (branches): ModuleList(\n",
            "          (0): Sequential(\n",
            "            (0): Conv2d(3, 48, kernel_size=(3, 3), stride=(2, 2), padding=(1, 1), bias=False)\n",
            "            (1): BatchNorm2d(48, eps=1e-05, momentum=0.1, affine=True, track_running_stats=True)\n",
            "          )\n",
            "          (1): Sequential(\n",
            "            (0): Conv2d(3, 48, kernel_size=(1, 1), stride=(2, 2), bias=False)\n",
            "            (1): BatchNorm2d(48, eps=1e-05, momentum=0.1, affine=True, track_running_stats=True)\n",
            "          )\n",
            "        )\n",
            "        (activation): ReLU(inplace=True)\n",
            "      )\n",
            "      (1): RepBlock(\n",
            "        (branches): ModuleList(\n",
            "          (0): Sequential(\n",
            "            (0): Conv2d(48, 48, kernel_size=(3, 3), stride=(1, 1), padding=(1, 1), bias=False)\n",
            "            (1): BatchNorm2d(48, eps=1e-05, momentum=0.1, affine=True, track_running_stats=True)\n",
            "          )\n",
            "          (1): Sequential(\n",
            "            (0): Conv2d(48, 48, kernel_size=(1, 1), stride=(1, 1), bias=False)\n",
            "            (1): BatchNorm2d(48, eps=1e-05, momentum=0.1, affine=True, track_running_stats=True)\n",
            "          )\n",
            "          (2): BatchNorm2d(48, eps=1e-05, momentum=0.1, affine=True, track_running_stats=True)\n",
            "        )\n",
            "        (activation): ReLU(inplace=True)\n",
            "      )\n",
            "    )\n",
            "    (1): Sequential(\n",
            "      (0): RepBlock(\n",
            "        (branches): ModuleList(\n",
            "          (0): Sequential(\n",
            "            (0): Conv2d(48, 48, kernel_size=(3, 3), stride=(2, 2), padding=(1, 1), bias=False)\n",
            "            (1): BatchNorm2d(48, eps=1e-05, momentum=0.1, affine=True, track_running_stats=True)\n",
            "          )\n",
            "          (1): Sequential(\n",
            "            (0): Conv2d(48, 48, kernel_size=(1, 1), stride=(2, 2), bias=False)\n",
            "            (1): BatchNorm2d(48, eps=1e-05, momentum=0.1, affine=True, track_running_stats=True)\n",
            "          )\n",
            "        )\n",
            "        (activation): ReLU(inplace=True)\n",
            "      )\n",
            "      (1): RepBlock(\n",
            "        (branches): ModuleList(\n",
            "          (0): Sequential(\n",
            "            (0): Conv2d(48, 48, kernel_size=(3, 3), stride=(1, 1), padding=(1, 1), bias=False)\n",
            "            (1): BatchNorm2d(48, eps=1e-05, momentum=0.1, affine=True, track_running_stats=True)\n",
            "          )\n",
            "          (1): Sequential(\n",
            "            (0): Conv2d(48, 48, kernel_size=(1, 1), stride=(1, 1), bias=False)\n",
            "            (1): BatchNorm2d(48, eps=1e-05, momentum=0.1, affine=True, track_running_stats=True)\n",
            "          )\n",
            "          (2): BatchNorm2d(48, eps=1e-05, momentum=0.1, affine=True, track_running_stats=True)\n",
            "        )\n",
            "        (activation): ReLU(inplace=True)\n",
            "      )\n",
            "      (2): RepBlock(\n",
            "        (branches): ModuleList(\n",
            "          (0): Sequential(\n",
            "            (0): Conv2d(48, 48, kernel_size=(3, 3), stride=(1, 1), padding=(1, 1), bias=False)\n",
            "            (1): BatchNorm2d(48, eps=1e-05, momentum=0.1, affine=True, track_running_stats=True)\n",
            "          )\n",
            "          (1): Sequential(\n",
            "            (0): Conv2d(48, 48, kernel_size=(1, 1), stride=(1, 1), bias=False)\n",
            "            (1): BatchNorm2d(48, eps=1e-05, momentum=0.1, affine=True, track_running_stats=True)\n",
            "          )\n",
            "          (2): BatchNorm2d(48, eps=1e-05, momentum=0.1, affine=True, track_running_stats=True)\n",
            "        )\n",
            "        (activation): ReLU(inplace=True)\n",
            "      )\n",
            "    )\n",
            "    (2): Sequential(\n",
            "      (0): RepBlock(\n",
            "        (branches): ModuleList(\n",
            "          (0): Sequential(\n",
            "            (0): Conv2d(48, 96, kernel_size=(3, 3), stride=(2, 2), padding=(1, 1), bias=False)\n",
            "            (1): BatchNorm2d(96, eps=1e-05, momentum=0.1, affine=True, track_running_stats=True)\n",
            "          )\n",
            "          (1): Sequential(\n",
            "            (0): Conv2d(48, 96, kernel_size=(1, 1), stride=(2, 2), bias=False)\n",
            "            (1): BatchNorm2d(96, eps=1e-05, momentum=0.1, affine=True, track_running_stats=True)\n",
            "          )\n",
            "        )\n",
            "        (activation): ReLU(inplace=True)\n",
            "      )\n",
            "      (1): RepBlock(\n",
            "        (branches): ModuleList(\n",
            "          (0): Sequential(\n",
            "            (0): Conv2d(96, 96, kernel_size=(3, 3), stride=(1, 1), padding=(1, 1), bias=False)\n",
            "            (1): BatchNorm2d(96, eps=1e-05, momentum=0.1, affine=True, track_running_stats=True)\n",
            "          )\n",
            "          (1): Sequential(\n",
            "            (0): Conv2d(96, 96, kernel_size=(1, 1), stride=(1, 1), bias=False)\n",
            "            (1): BatchNorm2d(96, eps=1e-05, momentum=0.1, affine=True, track_running_stats=True)\n",
            "          )\n",
            "          (2): BatchNorm2d(96, eps=1e-05, momentum=0.1, affine=True, track_running_stats=True)\n",
            "        )\n",
            "        (activation): ReLU(inplace=True)\n",
            "      )\n",
            "      (2): RepBlock(\n",
            "        (branches): ModuleList(\n",
            "          (0): Sequential(\n",
            "            (0): Conv2d(96, 96, kernel_size=(3, 3), stride=(1, 1), padding=(1, 1), bias=False)\n",
            "            (1): BatchNorm2d(96, eps=1e-05, momentum=0.1, affine=True, track_running_stats=True)\n",
            "          )\n",
            "          (1): Sequential(\n",
            "            (0): Conv2d(96, 96, kernel_size=(1, 1), stride=(1, 1), bias=False)\n",
            "            (1): BatchNorm2d(96, eps=1e-05, momentum=0.1, affine=True, track_running_stats=True)\n",
            "          )\n",
            "          (2): BatchNorm2d(96, eps=1e-05, momentum=0.1, affine=True, track_running_stats=True)\n",
            "        )\n",
            "        (activation): ReLU(inplace=True)\n",
            "      )\n",
            "      (3): RepBlock(\n",
            "        (branches): ModuleList(\n",
            "          (0): Sequential(\n",
            "            (0): Conv2d(96, 96, kernel_size=(3, 3), stride=(1, 1), padding=(1, 1), bias=False)\n",
            "            (1): BatchNorm2d(96, eps=1e-05, momentum=0.1, affine=True, track_running_stats=True)\n",
            "          )\n",
            "          (1): Sequential(\n",
            "            (0): Conv2d(96, 96, kernel_size=(1, 1), stride=(1, 1), bias=False)\n",
            "            (1): BatchNorm2d(96, eps=1e-05, momentum=0.1, affine=True, track_running_stats=True)\n",
            "          )\n",
            "          (2): BatchNorm2d(96, eps=1e-05, momentum=0.1, affine=True, track_running_stats=True)\n",
            "        )\n",
            "        (activation): ReLU(inplace=True)\n",
            "      )\n",
            "      (4): RepBlock(\n",
            "        (branches): ModuleList(\n",
            "          (0): Sequential(\n",
            "            (0): Conv2d(96, 96, kernel_size=(3, 3), stride=(1, 1), padding=(1, 1), bias=False)\n",
            "            (1): BatchNorm2d(96, eps=1e-05, momentum=0.1, affine=True, track_running_stats=True)\n",
            "          )\n",
            "          (1): Sequential(\n",
            "            (0): Conv2d(96, 96, kernel_size=(1, 1), stride=(1, 1), bias=False)\n",
            "            (1): BatchNorm2d(96, eps=1e-05, momentum=0.1, affine=True, track_running_stats=True)\n",
            "          )\n",
            "          (2): BatchNorm2d(96, eps=1e-05, momentum=0.1, affine=True, track_running_stats=True)\n",
            "        )\n",
            "        (activation): ReLU(inplace=True)\n",
            "      )\n",
            "    )\n",
            "    (3): Sequential(\n",
            "      (0): RepBlock(\n",
            "        (branches): ModuleList(\n",
            "          (0): Sequential(\n",
            "            (0): Conv2d(96, 192, kernel_size=(3, 3), stride=(2, 2), padding=(1, 1), bias=False)\n",
            "            (1): BatchNorm2d(192, eps=1e-05, momentum=0.1, affine=True, track_running_stats=True)\n",
            "          )\n",
            "          (1): Sequential(\n",
            "            (0): Conv2d(96, 192, kernel_size=(1, 1), stride=(2, 2), bias=False)\n",
            "            (1): BatchNorm2d(192, eps=1e-05, momentum=0.1, affine=True, track_running_stats=True)\n",
            "          )\n",
            "        )\n",
            "        (activation): ReLU(inplace=True)\n",
            "      )\n",
            "      (1): RepBlock(\n",
            "        (branches): ModuleList(\n",
            "          (0): Sequential(\n",
            "            (0): Conv2d(192, 192, kernel_size=(3, 3), stride=(1, 1), padding=(1, 1), bias=False)\n",
            "            (1): BatchNorm2d(192, eps=1e-05, momentum=0.1, affine=True, track_running_stats=True)\n",
            "          )\n",
            "          (1): Sequential(\n",
            "            (0): Conv2d(192, 192, kernel_size=(1, 1), stride=(1, 1), bias=False)\n",
            "            (1): BatchNorm2d(192, eps=1e-05, momentum=0.1, affine=True, track_running_stats=True)\n",
            "          )\n",
            "          (2): BatchNorm2d(192, eps=1e-05, momentum=0.1, affine=True, track_running_stats=True)\n",
            "        )\n",
            "        (activation): ReLU(inplace=True)\n",
            "      )\n",
            "      (2): RepBlock(\n",
            "        (branches): ModuleList(\n",
            "          (0): Sequential(\n",
            "            (0): Conv2d(192, 192, kernel_size=(3, 3), stride=(1, 1), padding=(1, 1), bias=False)\n",
            "            (1): BatchNorm2d(192, eps=1e-05, momentum=0.1, affine=True, track_running_stats=True)\n",
            "          )\n",
            "          (1): Sequential(\n",
            "            (0): Conv2d(192, 192, kernel_size=(1, 1), stride=(1, 1), bias=False)\n",
            "            (1): BatchNorm2d(192, eps=1e-05, momentum=0.1, affine=True, track_running_stats=True)\n",
            "          )\n",
            "          (2): BatchNorm2d(192, eps=1e-05, momentum=0.1, affine=True, track_running_stats=True)\n",
            "        )\n",
            "        (activation): ReLU(inplace=True)\n",
            "      )\n",
            "      (3): RepBlock(\n",
            "        (branches): ModuleList(\n",
            "          (0): Sequential(\n",
            "            (0): Conv2d(192, 192, kernel_size=(3, 3), stride=(1, 1), padding=(1, 1), bias=False)\n",
            "            (1): BatchNorm2d(192, eps=1e-05, momentum=0.1, affine=True, track_running_stats=True)\n",
            "          )\n",
            "          (1): Sequential(\n",
            "            (0): Conv2d(192, 192, kernel_size=(1, 1), stride=(1, 1), bias=False)\n",
            "            (1): BatchNorm2d(192, eps=1e-05, momentum=0.1, affine=True, track_running_stats=True)\n",
            "          )\n",
            "          (2): BatchNorm2d(192, eps=1e-05, momentum=0.1, affine=True, track_running_stats=True)\n",
            "        )\n",
            "        (activation): ReLU(inplace=True)\n",
            "      )\n",
            "      (4): RepBlock(\n",
            "        (branches): ModuleList(\n",
            "          (0): Sequential(\n",
            "            (0): Conv2d(192, 192, kernel_size=(3, 3), stride=(1, 1), padding=(1, 1), bias=False)\n",
            "            (1): BatchNorm2d(192, eps=1e-05, momentum=0.1, affine=True, track_running_stats=True)\n",
            "          )\n",
            "          (1): Sequential(\n",
            "            (0): Conv2d(192, 192, kernel_size=(1, 1), stride=(1, 1), bias=False)\n",
            "            (1): BatchNorm2d(192, eps=1e-05, momentum=0.1, affine=True, track_running_stats=True)\n",
            "          )\n",
            "          (2): BatchNorm2d(192, eps=1e-05, momentum=0.1, affine=True, track_running_stats=True)\n",
            "        )\n",
            "        (activation): ReLU(inplace=True)\n",
            "      )\n",
            "      (5): RepBlock(\n",
            "        (branches): ModuleList(\n",
            "          (0): Sequential(\n",
            "            (0): Conv2d(192, 192, kernel_size=(3, 3), stride=(1, 1), padding=(1, 1), bias=False)\n",
            "            (1): BatchNorm2d(192, eps=1e-05, momentum=0.1, affine=True, track_running_stats=True)\n",
            "          )\n",
            "          (1): Sequential(\n",
            "            (0): Conv2d(192, 192, kernel_size=(1, 1), stride=(1, 1), bias=False)\n",
            "            (1): BatchNorm2d(192, eps=1e-05, momentum=0.1, affine=True, track_running_stats=True)\n",
            "          )\n",
            "          (2): BatchNorm2d(192, eps=1e-05, momentum=0.1, affine=True, track_running_stats=True)\n",
            "        )\n",
            "        (activation): ReLU(inplace=True)\n",
            "      )\n",
            "      (6): RepBlock(\n",
            "        (branches): ModuleList(\n",
            "          (0): Sequential(\n",
            "            (0): Conv2d(192, 192, kernel_size=(3, 3), stride=(1, 1), padding=(1, 1), bias=False)\n",
            "            (1): BatchNorm2d(192, eps=1e-05, momentum=0.1, affine=True, track_running_stats=True)\n",
            "          )\n",
            "          (1): Sequential(\n",
            "            (0): Conv2d(192, 192, kernel_size=(1, 1), stride=(1, 1), bias=False)\n",
            "            (1): BatchNorm2d(192, eps=1e-05, momentum=0.1, affine=True, track_running_stats=True)\n",
            "          )\n",
            "          (2): BatchNorm2d(192, eps=1e-05, momentum=0.1, affine=True, track_running_stats=True)\n",
            "        )\n",
            "        (activation): ReLU(inplace=True)\n",
            "      )\n",
            "      (7): RepBlock(\n",
            "        (branches): ModuleList(\n",
            "          (0): Sequential(\n",
            "            (0): Conv2d(192, 192, kernel_size=(3, 3), stride=(1, 1), padding=(1, 1), bias=False)\n",
            "            (1): BatchNorm2d(192, eps=1e-05, momentum=0.1, affine=True, track_running_stats=True)\n",
            "          )\n",
            "          (1): Sequential(\n",
            "            (0): Conv2d(192, 192, kernel_size=(1, 1), stride=(1, 1), bias=False)\n",
            "            (1): BatchNorm2d(192, eps=1e-05, momentum=0.1, affine=True, track_running_stats=True)\n",
            "          )\n",
            "          (2): BatchNorm2d(192, eps=1e-05, momentum=0.1, affine=True, track_running_stats=True)\n",
            "        )\n",
            "        (activation): ReLU(inplace=True)\n",
            "      )\n",
            "      (8): RepBlock(\n",
            "        (branches): ModuleList(\n",
            "          (0): Sequential(\n",
            "            (0): Conv2d(192, 192, kernel_size=(3, 3), stride=(1, 1), padding=(1, 1), bias=False)\n",
            "            (1): BatchNorm2d(192, eps=1e-05, momentum=0.1, affine=True, track_running_stats=True)\n",
            "          )\n",
            "          (1): Sequential(\n",
            "            (0): Conv2d(192, 192, kernel_size=(1, 1), stride=(1, 1), bias=False)\n",
            "            (1): BatchNorm2d(192, eps=1e-05, momentum=0.1, affine=True, track_running_stats=True)\n",
            "          )\n",
            "          (2): BatchNorm2d(192, eps=1e-05, momentum=0.1, affine=True, track_running_stats=True)\n",
            "        )\n",
            "        (activation): ReLU(inplace=True)\n",
            "      )\n",
            "      (9): RepBlock(\n",
            "        (branches): ModuleList(\n",
            "          (0): Sequential(\n",
            "            (0): Conv2d(192, 192, kernel_size=(3, 3), stride=(1, 1), padding=(1, 1), bias=False)\n",
            "            (1): BatchNorm2d(192, eps=1e-05, momentum=0.1, affine=True, track_running_stats=True)\n",
            "          )\n",
            "          (1): Sequential(\n",
            "            (0): Conv2d(192, 192, kernel_size=(1, 1), stride=(1, 1), bias=False)\n",
            "            (1): BatchNorm2d(192, eps=1e-05, momentum=0.1, affine=True, track_running_stats=True)\n",
            "          )\n",
            "          (2): BatchNorm2d(192, eps=1e-05, momentum=0.1, affine=True, track_running_stats=True)\n",
            "        )\n",
            "        (activation): ReLU(inplace=True)\n",
            "      )\n",
            "      (10): RepBlock(\n",
            "        (branches): ModuleList(\n",
            "          (0): Sequential(\n",
            "            (0): Conv2d(192, 192, kernel_size=(3, 3), stride=(1, 1), padding=(1, 1), bias=False)\n",
            "            (1): BatchNorm2d(192, eps=1e-05, momentum=0.1, affine=True, track_running_stats=True)\n",
            "          )\n",
            "          (1): Sequential(\n",
            "            (0): Conv2d(192, 192, kernel_size=(1, 1), stride=(1, 1), bias=False)\n",
            "            (1): BatchNorm2d(192, eps=1e-05, momentum=0.1, affine=True, track_running_stats=True)\n",
            "          )\n",
            "          (2): BatchNorm2d(192, eps=1e-05, momentum=0.1, affine=True, track_running_stats=True)\n",
            "        )\n",
            "        (activation): ReLU(inplace=True)\n",
            "      )\n",
            "      (11): RepBlock(\n",
            "        (branches): ModuleList(\n",
            "          (0): Sequential(\n",
            "            (0): Conv2d(192, 192, kernel_size=(3, 3), stride=(1, 1), padding=(1, 1), bias=False)\n",
            "            (1): BatchNorm2d(192, eps=1e-05, momentum=0.1, affine=True, track_running_stats=True)\n",
            "          )\n",
            "          (1): Sequential(\n",
            "            (0): Conv2d(192, 192, kernel_size=(1, 1), stride=(1, 1), bias=False)\n",
            "            (1): BatchNorm2d(192, eps=1e-05, momentum=0.1, affine=True, track_running_stats=True)\n",
            "          )\n",
            "          (2): BatchNorm2d(192, eps=1e-05, momentum=0.1, affine=True, track_running_stats=True)\n",
            "        )\n",
            "        (activation): ReLU(inplace=True)\n",
            "      )\n",
            "      (12): RepBlock(\n",
            "        (branches): ModuleList(\n",
            "          (0): Sequential(\n",
            "            (0): Conv2d(192, 192, kernel_size=(3, 3), stride=(1, 1), padding=(1, 1), bias=False)\n",
            "            (1): BatchNorm2d(192, eps=1e-05, momentum=0.1, affine=True, track_running_stats=True)\n",
            "          )\n",
            "          (1): Sequential(\n",
            "            (0): Conv2d(192, 192, kernel_size=(1, 1), stride=(1, 1), bias=False)\n",
            "            (1): BatchNorm2d(192, eps=1e-05, momentum=0.1, affine=True, track_running_stats=True)\n",
            "          )\n",
            "          (2): BatchNorm2d(192, eps=1e-05, momentum=0.1, affine=True, track_running_stats=True)\n",
            "        )\n",
            "        (activation): ReLU(inplace=True)\n",
            "      )\n",
            "      (13): RepBlock(\n",
            "        (branches): ModuleList(\n",
            "          (0): Sequential(\n",
            "            (0): Conv2d(192, 192, kernel_size=(3, 3), stride=(1, 1), padding=(1, 1), bias=False)\n",
            "            (1): BatchNorm2d(192, eps=1e-05, momentum=0.1, affine=True, track_running_stats=True)\n",
            "          )\n",
            "          (1): Sequential(\n",
            "            (0): Conv2d(192, 192, kernel_size=(1, 1), stride=(1, 1), bias=False)\n",
            "            (1): BatchNorm2d(192, eps=1e-05, momentum=0.1, affine=True, track_running_stats=True)\n",
            "          )\n",
            "          (2): BatchNorm2d(192, eps=1e-05, momentum=0.1, affine=True, track_running_stats=True)\n",
            "        )\n",
            "        (activation): ReLU(inplace=True)\n",
            "      )\n",
            "      (14): RepBlock(\n",
            "        (branches): ModuleList(\n",
            "          (0): Sequential(\n",
            "            (0): Conv2d(192, 192, kernel_size=(3, 3), stride=(1, 1), padding=(1, 1), bias=False)\n",
            "            (1): BatchNorm2d(192, eps=1e-05, momentum=0.1, affine=True, track_running_stats=True)\n",
            "          )\n",
            "          (1): Sequential(\n",
            "            (0): Conv2d(192, 192, kernel_size=(1, 1), stride=(1, 1), bias=False)\n",
            "            (1): BatchNorm2d(192, eps=1e-05, momentum=0.1, affine=True, track_running_stats=True)\n",
            "          )\n",
            "          (2): BatchNorm2d(192, eps=1e-05, momentum=0.1, affine=True, track_running_stats=True)\n",
            "        )\n",
            "        (activation): ReLU(inplace=True)\n",
            "      )\n",
            "    )\n",
            "    (4): Sequential(\n",
            "      (0): RepBlock(\n",
            "        (branches): ModuleList(\n",
            "          (0): Sequential(\n",
            "            (0): Conv2d(192, 1280, kernel_size=(3, 3), stride=(2, 2), padding=(1, 1), bias=False)\n",
            "            (1): BatchNorm2d(1280, eps=1e-05, momentum=0.1, affine=True, track_running_stats=True)\n",
            "          )\n",
            "          (1): Sequential(\n",
            "            (0): Conv2d(192, 1280, kernel_size=(1, 1), stride=(2, 2), bias=False)\n",
            "            (1): BatchNorm2d(1280, eps=1e-05, momentum=0.1, affine=True, track_running_stats=True)\n",
            "          )\n",
            "        )\n",
            "        (activation): ReLU(inplace=True)\n",
            "      )\n",
            "      (1): RepBlock(\n",
            "        (branches): ModuleList(\n",
            "          (0): Sequential(\n",
            "            (0): Conv2d(1280, 1280, kernel_size=(3, 3), stride=(1, 1), padding=(1, 1), bias=False)\n",
            "            (1): BatchNorm2d(1280, eps=1e-05, momentum=0.1, affine=True, track_running_stats=True)\n",
            "          )\n",
            "          (1): Sequential(\n",
            "            (0): Conv2d(1280, 1280, kernel_size=(1, 1), stride=(1, 1), bias=False)\n",
            "            (1): BatchNorm2d(1280, eps=1e-05, momentum=0.1, affine=True, track_running_stats=True)\n",
            "          )\n",
            "          (2): BatchNorm2d(1280, eps=1e-05, momentum=0.1, affine=True, track_running_stats=True)\n",
            "        )\n",
            "        (activation): ReLU(inplace=True)\n",
            "      )\n",
            "    )\n",
            "  )\n",
            "  (pool): GlobalAvgPool2d(flatten=True)\n",
            "  (head): Linear(in_features=1280, out_features=10, bias=True)\n",
            ")\n"
          ]
        }
      ]
    },
    {
      "cell_type": "markdown",
      "source": [
        "Some models have special features. In our case, RepVGG model can be reparametrized to maximize inference speed!"
      ],
      "metadata": {
        "id": "uHkHoZwAVG8s"
      }
    },
    {
      "cell_type": "code",
      "source": [
        "%timeit -n10 with torch.inference_mode(): output = model(input_tensor)"
      ],
      "metadata": {
        "colab": {
          "base_uri": "https://localhost:8080/"
        },
        "id": "6xgYeJ5VVBbX",
        "outputId": "2083e894-58da-4560-e1e9-8218bef6cd19"
      },
      "execution_count": 8,
      "outputs": [
        {
          "output_type": "stream",
          "name": "stdout",
          "text": [
            "10 loops, best of 5: 182 ms per loop\n"
          ]
        }
      ]
    },
    {
      "cell_type": "code",
      "source": [
        "# Let's reparametrize this now\n",
        "model.reparametrize()"
      ],
      "metadata": {
        "id": "zD7oqxHjVe06"
      },
      "execution_count": 9,
      "outputs": []
    },
    {
      "cell_type": "code",
      "source": [
        "%timeit -n10 with torch.inference_mode(): output = model(input_tensor)"
      ],
      "metadata": {
        "colab": {
          "base_uri": "https://localhost:8080/"
        },
        "id": "gv9sldmgVuq5",
        "outputId": "76ff4ac8-e76f-414b-d636-2be009d80591"
      },
      "execution_count": 10,
      "outputs": [
        {
          "output_type": "stream",
          "name": "stdout",
          "text": [
            "10 loops, best of 5: 124 ms per loop\n"
          ]
        }
      ]
    },
    {
      "cell_type": "markdown",
      "source": [
        "And the model architecture has been updated"
      ],
      "metadata": {
        "id": "dqufZvfvWD_m"
      }
    },
    {
      "cell_type": "code",
      "source": [
        "print(model)"
      ],
      "metadata": {
        "colab": {
          "base_uri": "https://localhost:8080/"
        },
        "id": "Z0iGBMEhVrVc",
        "outputId": "e6c57f3c-28d0-4474-e1f1-14c77aa7154a"
      },
      "execution_count": 11,
      "outputs": [
        {
          "output_type": "stream",
          "name": "stdout",
          "text": [
            "RepVGG(\n",
            "  (features): Sequential(\n",
            "    (0): Sequential(\n",
            "      (0): RepBlock(\n",
            "        (branches): Conv2d(3, 48, kernel_size=(3, 3), stride=(2, 2), padding=(1, 1))\n",
            "        (activation): ReLU(inplace=True)\n",
            "      )\n",
            "      (1): RepBlock(\n",
            "        (branches): Conv2d(48, 48, kernel_size=(3, 3), stride=(1, 1), padding=(1, 1))\n",
            "        (activation): ReLU(inplace=True)\n",
            "      )\n",
            "    )\n",
            "    (1): Sequential(\n",
            "      (0): RepBlock(\n",
            "        (branches): Conv2d(48, 48, kernel_size=(3, 3), stride=(2, 2), padding=(1, 1))\n",
            "        (activation): ReLU(inplace=True)\n",
            "      )\n",
            "      (1): RepBlock(\n",
            "        (branches): Conv2d(48, 48, kernel_size=(3, 3), stride=(1, 1), padding=(1, 1))\n",
            "        (activation): ReLU(inplace=True)\n",
            "      )\n",
            "      (2): RepBlock(\n",
            "        (branches): Conv2d(48, 48, kernel_size=(3, 3), stride=(1, 1), padding=(1, 1))\n",
            "        (activation): ReLU(inplace=True)\n",
            "      )\n",
            "    )\n",
            "    (2): Sequential(\n",
            "      (0): RepBlock(\n",
            "        (branches): Conv2d(48, 96, kernel_size=(3, 3), stride=(2, 2), padding=(1, 1))\n",
            "        (activation): ReLU(inplace=True)\n",
            "      )\n",
            "      (1): RepBlock(\n",
            "        (branches): Conv2d(96, 96, kernel_size=(3, 3), stride=(1, 1), padding=(1, 1))\n",
            "        (activation): ReLU(inplace=True)\n",
            "      )\n",
            "      (2): RepBlock(\n",
            "        (branches): Conv2d(96, 96, kernel_size=(3, 3), stride=(1, 1), padding=(1, 1))\n",
            "        (activation): ReLU(inplace=True)\n",
            "      )\n",
            "      (3): RepBlock(\n",
            "        (branches): Conv2d(96, 96, kernel_size=(3, 3), stride=(1, 1), padding=(1, 1))\n",
            "        (activation): ReLU(inplace=True)\n",
            "      )\n",
            "      (4): RepBlock(\n",
            "        (branches): Conv2d(96, 96, kernel_size=(3, 3), stride=(1, 1), padding=(1, 1))\n",
            "        (activation): ReLU(inplace=True)\n",
            "      )\n",
            "    )\n",
            "    (3): Sequential(\n",
            "      (0): RepBlock(\n",
            "        (branches): Conv2d(96, 192, kernel_size=(3, 3), stride=(2, 2), padding=(1, 1))\n",
            "        (activation): ReLU(inplace=True)\n",
            "      )\n",
            "      (1): RepBlock(\n",
            "        (branches): Conv2d(192, 192, kernel_size=(3, 3), stride=(1, 1), padding=(1, 1))\n",
            "        (activation): ReLU(inplace=True)\n",
            "      )\n",
            "      (2): RepBlock(\n",
            "        (branches): Conv2d(192, 192, kernel_size=(3, 3), stride=(1, 1), padding=(1, 1))\n",
            "        (activation): ReLU(inplace=True)\n",
            "      )\n",
            "      (3): RepBlock(\n",
            "        (branches): Conv2d(192, 192, kernel_size=(3, 3), stride=(1, 1), padding=(1, 1))\n",
            "        (activation): ReLU(inplace=True)\n",
            "      )\n",
            "      (4): RepBlock(\n",
            "        (branches): Conv2d(192, 192, kernel_size=(3, 3), stride=(1, 1), padding=(1, 1))\n",
            "        (activation): ReLU(inplace=True)\n",
            "      )\n",
            "      (5): RepBlock(\n",
            "        (branches): Conv2d(192, 192, kernel_size=(3, 3), stride=(1, 1), padding=(1, 1))\n",
            "        (activation): ReLU(inplace=True)\n",
            "      )\n",
            "      (6): RepBlock(\n",
            "        (branches): Conv2d(192, 192, kernel_size=(3, 3), stride=(1, 1), padding=(1, 1))\n",
            "        (activation): ReLU(inplace=True)\n",
            "      )\n",
            "      (7): RepBlock(\n",
            "        (branches): Conv2d(192, 192, kernel_size=(3, 3), stride=(1, 1), padding=(1, 1))\n",
            "        (activation): ReLU(inplace=True)\n",
            "      )\n",
            "      (8): RepBlock(\n",
            "        (branches): Conv2d(192, 192, kernel_size=(3, 3), stride=(1, 1), padding=(1, 1))\n",
            "        (activation): ReLU(inplace=True)\n",
            "      )\n",
            "      (9): RepBlock(\n",
            "        (branches): Conv2d(192, 192, kernel_size=(3, 3), stride=(1, 1), padding=(1, 1))\n",
            "        (activation): ReLU(inplace=True)\n",
            "      )\n",
            "      (10): RepBlock(\n",
            "        (branches): Conv2d(192, 192, kernel_size=(3, 3), stride=(1, 1), padding=(1, 1))\n",
            "        (activation): ReLU(inplace=True)\n",
            "      )\n",
            "      (11): RepBlock(\n",
            "        (branches): Conv2d(192, 192, kernel_size=(3, 3), stride=(1, 1), padding=(1, 1))\n",
            "        (activation): ReLU(inplace=True)\n",
            "      )\n",
            "      (12): RepBlock(\n",
            "        (branches): Conv2d(192, 192, kernel_size=(3, 3), stride=(1, 1), padding=(1, 1))\n",
            "        (activation): ReLU(inplace=True)\n",
            "      )\n",
            "      (13): RepBlock(\n",
            "        (branches): Conv2d(192, 192, kernel_size=(3, 3), stride=(1, 1), padding=(1, 1))\n",
            "        (activation): ReLU(inplace=True)\n",
            "      )\n",
            "      (14): RepBlock(\n",
            "        (branches): Conv2d(192, 192, kernel_size=(3, 3), stride=(1, 1), padding=(1, 1))\n",
            "        (activation): ReLU(inplace=True)\n",
            "      )\n",
            "    )\n",
            "    (4): Sequential(\n",
            "      (0): RepBlock(\n",
            "        (branches): Conv2d(192, 1280, kernel_size=(3, 3), stride=(2, 2), padding=(1, 1))\n",
            "        (activation): ReLU(inplace=True)\n",
            "      )\n",
            "      (1): RepBlock(\n",
            "        (branches): Conv2d(1280, 1280, kernel_size=(3, 3), stride=(1, 1), padding=(1, 1))\n",
            "        (activation): ReLU(inplace=True)\n",
            "      )\n",
            "    )\n",
            "  )\n",
            "  (pool): GlobalAvgPool2d(flatten=True)\n",
            "  (head): Linear(in_features=1280, out_features=10, bias=True)\n",
            ")\n"
          ]
        }
      ]
    }
  ]
}